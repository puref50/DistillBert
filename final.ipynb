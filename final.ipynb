{
 "cells": [
  {
   "cell_type": "code",
   "execution_count": 1,
   "metadata": {
    "id": "2YzYk5xsEhwN"
   },
   "outputs": [
    {
     "name": "stderr",
     "output_type": "stream",
     "text": [
      "C:\\Users\\wangl\\anaconda3\\envs\\tensor_flow\\lib\\site-packages\\tqdm\\auto.py:21: TqdmWarning: IProgress not found. Please update jupyter and ipywidgets. See https://ipywidgets.readthedocs.io/en/stable/user_install.html\n",
      "  from .autonotebook import tqdm as notebook_tqdm\n"
     ]
    }
   ],
   "source": [
    "import torch\n",
    "from torch import nn\n",
    "from torch.utils.data import DataLoader\n",
    "from transformers import (\n",
    "    BertForSequenceClassification,\n",
    "    DistilBertForSequenceClassification,\n",
    "    BertTokenizer,\n",
    "    Trainer,\n",
    "    TrainingArguments,\n",
    "    glue_convert_examples_to_features,\n",
    "    glue_processors,\n",
    "    glue_output_modes,\n",
    "    glue_tasks_num_labels,\n",
    ")\n",
    "from datasets import load_dataset\n",
    "from sklearn.metrics import accuracy_score\n",
    "\n",
    "device = torch.device(\"cuda\" if torch.cuda.is_available() else \"cpu\")"
   ]
  },
  {
   "cell_type": "code",
   "execution_count": 19,
   "metadata": {
    "id": "2YzYk5xsEhwN"
   },
   "outputs": [],
   "source": [
    "# 1. 加载 SST-2 数据集\n",
    "dataset = load_dataset(\"glue\", \"sst2\")\n",
    "tokenizer = BertTokenizer.from_pretrained(\"bert-base-uncased\")\n",
    "\n",
    "def tokenize(batch):\n",
    "    return tokenizer(batch[\"sentence\"], padding=\"max_length\", truncation=True, max_length=128)\n",
    "\n",
    "dataset = dataset.map(tokenize, batched=True)\n",
    "dataset.set_format(\"torch\", columns=[\"input_ids\", \"attention_mask\", \"label\"])\n",
    "\n",
    "train_dataloader = DataLoader(dataset[\"train\"], batch_size=192, shuffle=True)\n",
    "valid_dataloader = DataLoader(dataset[\"validation\"], batch_size=192)"
   ]
  },
  {
   "cell_type": "code",
   "execution_count": 21,
   "metadata": {
    "id": "2YzYk5xsEhwN"
   },
   "outputs": [
    {
     "name": "stderr",
     "output_type": "stream",
     "text": [
      "Error during conversion: ChunkedEncodingError(ProtocolError('Response ended prematurely'))\n"
     ]
    }
   ],
   "source": [
    "# 2. 加载 Teacher 模型 (已微调的BERT)\n",
    "teacher = BertForSequenceClassification.from_pretrained(\"textattack/bert-base-uncased-SST-2\", num_labels=2, output_hidden_states=True).to(device)"
   ]
  },
  {
   "cell_type": "code",
   "execution_count": 23,
   "metadata": {
    "id": "2YzYk5xsEhwN"
   },
   "outputs": [
    {
     "name": "stderr",
     "output_type": "stream",
     "text": [
      "Some weights of DistilBertForSequenceClassification were not initialized from the model checkpoint at distilbert-base-uncased and are newly initialized: ['classifier.bias', 'classifier.weight', 'pre_classifier.bias', 'pre_classifier.weight']\n",
      "You should probably TRAIN this model on a down-stream task to be able to use it for predictions and inference.\n"
     ]
    }
   ],
   "source": [
    "# 3. 加载 Student 模型 (DistilBERT)\n",
    "student = DistilBertForSequenceClassification.from_pretrained(\"distilbert-base-uncased\", num_labels=2, output_hidden_states=True).to(device)"
   ]
  },
  {
   "cell_type": "code",
   "execution_count": 127,
   "metadata": {
    "id": "2YzYk5xsEhwN"
   },
   "outputs": [],
   "source": [
    "# 4. 知识蒸馏训练设置\n",
    "def cosine_sim(hidden1, hidden2):\n",
    "    # shape: [batch_size, seq_len, hidden_dim]\n",
    "    sim = F.cosine_similarity(hidden1, hidden2, dim=-1)  # 每个 token 的相似度\n",
    "    return sim.mean().item()\n",
    "\n",
    "optimizer = torch.optim.Adam(student.parameters(), lr=2e-5)\n",
    "# 损失函数\n",
    "kl_loss_fn = nn.KLDivLoss(reduction=\"batchmean\")\n",
    "ce_loss_fn = nn.CrossEntropyLoss()\n",
    "mse_loss_fn = nn.MSELoss()\n",
    "\n",
    "# 权重系数（可以调）\n",
    "alpha = 0.2   # CE loss 权重\n",
    "beta = 0.3    # logit 蒸馏权重\n",
    "gamma = 0.5   # hidden 蒸馏权重\n",
    "temperature = 5.0\n",
    "\n",
    "best_val_acc = 0\n",
    "no_improve_count = 0\n",
    "early_stop_patience = 2"
   ]
  },
  {
   "cell_type": "code",
   "execution_count": 131,
   "metadata": {
    "id": "2YzYk5xsEhwN"
   },
   "outputs": [
    {
     "name": "stderr",
     "output_type": "stream",
     "text": [
      "                                                                                                                       \r"
     ]
    },
    {
     "name": "stdout",
     "output_type": "stream",
     "text": [
      "Validation Accuracy: 0.9174\n",
      "Hidden State Cosine Similarity: 0.9053\n",
      "Accuracy improved. Continuing training.\n",
      "Epoch 1 Completed | Avg Loss: 0.0461\n"
     ]
    },
    {
     "name": "stderr",
     "output_type": "stream",
     "text": [
      "                                                                                                                       \r"
     ]
    },
    {
     "name": "stdout",
     "output_type": "stream",
     "text": [
      "Validation Accuracy: 0.9174\n",
      "Hidden State Cosine Similarity: 0.9047\n",
      "No improvement. Patience counter: 1/2\n",
      "Epoch 2 Completed | Avg Loss: 0.0454\n"
     ]
    },
    {
     "name": "stderr",
     "output_type": "stream",
     "text": [
      "                                                                                                                       \r"
     ]
    },
    {
     "name": "stdout",
     "output_type": "stream",
     "text": [
      "Validation Accuracy: 0.9163\n",
      "Hidden State Cosine Similarity: 0.9041\n",
      "No improvement. Patience counter: 2/2\n",
      "Early stopping triggered.\n"
     ]
    }
   ],
   "source": [
    "from tqdm import tqdm\n",
    "import torch.nn.functional as F\n",
    "\n",
    "for epoch in range(15):\n",
    "    student.train()\n",
    "    total_loss = 0\n",
    "    running_loss = 0\n",
    "    \n",
    "    loop = tqdm(train_dataloader, leave=False, desc=f\"Epoch {epoch+1}\")\n",
    "\n",
    "    for step, batch in enumerate(loop):\n",
    "        input_ids = batch[\"input_ids\"].to(device)\n",
    "        attention_mask = batch[\"attention_mask\"].to(device)\n",
    "        labels = batch[\"label\"].to(device)\n",
    "\n",
    "        with torch.no_grad():\n",
    "            teacher_outputs = teacher(input_ids=input_ids, attention_mask=attention_mask)\n",
    "            teacher_logits = teacher_outputs.logits\n",
    "            teacher_hidden = teacher_outputs.hidden_states[-1]\n",
    "\n",
    "        student_outputs = student(input_ids=input_ids, attention_mask=attention_mask)\n",
    "        student_logits = student_outputs.logits\n",
    "        student_hidden = student_outputs.hidden_states[-1]\n",
    "\n",
    "        # 三重损失\n",
    "        ce_loss = ce_loss_fn(student_logits, labels)\n",
    "        student_soft = nn.functional.log_softmax(student_logits / temperature, dim=1)\n",
    "        teacher_soft = nn.functional.softmax(teacher_logits / temperature, dim=1)\n",
    "        logit_distill = kl_loss_fn(student_soft, teacher_soft) * (temperature ** 2)\n",
    "        hidden_distill = 1 - F.cosine_similarity(student_hidden, teacher_hidden, dim=-1).mean()\n",
    "\n",
    "        loss = alpha * ce_loss + beta * logit_distill + gamma * hidden_distill\n",
    "        loss.backward()\n",
    "        optimizer.step()\n",
    "        optimizer.zero_grad()\n",
    "\n",
    "        total_loss += loss.item()\n",
    "        running_loss += loss.item()\n",
    "\n",
    "        # 显示在进度条上\n",
    "        loop.set_postfix(loss=loss.item())\n",
    "\n",
    "    # ========== 添加验证集评估 ==========\n",
    "    student.eval()\n",
    "    correct = total = 0\n",
    "    with torch.no_grad():\n",
    "        for batch in valid_dataloader:\n",
    "            input_ids = batch[\"input_ids\"].to(device)\n",
    "            attention_mask = batch[\"attention_mask\"].to(device)\n",
    "            labels = batch[\"label\"].to(device)\n",
    "\n",
    "            outputs = student(input_ids=input_ids, attention_mask=attention_mask)\n",
    "            preds = torch.argmax(outputs.logits, dim=1)\n",
    "            correct += (preds == labels).sum().item()\n",
    "            total += labels.size(0)\n",
    "\n",
    "    val_acc = correct / total\n",
    "    print(f\"Validation Accuracy: {val_acc:.4f}\")\n",
    "\n",
    "    # 在训练或验证时添加\n",
    "    with torch.no_grad():\n",
    "        teacher_outputs = teacher(input_ids=input_ids, attention_mask=attention_mask)\n",
    "        student_outputs = student(input_ids=input_ids, attention_mask=attention_mask)\n",
    "    \n",
    "        teacher_hidden = teacher_outputs.hidden_states[-1]\n",
    "        student_hidden = student_outputs.hidden_states[-1]\n",
    "\n",
    "        sim_score = cosine_sim(student_hidden, teacher_hidden)\n",
    "        print(f\"Hidden State Cosine Similarity: {sim_score:.4f}\")\n",
    "\n",
    "    # ========== Early Stopping 逻辑 ==========\n",
    "    if val_acc > best_val_acc:\n",
    "        best_val_acc = val_acc\n",
    "        no_improve_count = 0\n",
    "        print(\"Accuracy improved. Continuing training.\")\n",
    "    else:\n",
    "        no_improve_count += 1\n",
    "        print(f\"No improvement. Patience counter: {no_improve_count}/{early_stop_patience}\")\n",
    "\n",
    "        if no_improve_count >= early_stop_patience:\n",
    "            print(\"Early stopping triggered.\")\n",
    "            break\n",
    "\n",
    "    # 清理变量和显存\n",
    "    del teacher_outputs\n",
    "    del student_outputs\n",
    "    torch.cuda.empty_cache()\n",
    "    \n",
    "    print(f\"Epoch {epoch+1} Completed | Avg Loss: {total_loss / len(train_dataloader):.4f}\")"
   ]
  },
  {
   "cell_type": "code",
   "execution_count": 129,
   "metadata": {},
   "outputs": [],
   "source": [
    "torch.cuda.empty_cache()"
   ]
  },
  {
   "cell_type": "code",
   "execution_count": 35,
   "metadata": {},
   "outputs": [
    {
     "name": "stdout",
     "output_type": "stream",
     "text": [
      "Teacher Accuracy: 0.9243\n"
     ]
    }
   ],
   "source": [
    "# Evaluate teacher\n",
    "teacher.eval()\n",
    "correct = total = 0\n",
    "with torch.no_grad():\n",
    "    for batch in valid_dataloader:\n",
    "        input_ids = batch[\"input_ids\"].to(device)\n",
    "        attention_mask = batch[\"attention_mask\"].to(device)\n",
    "        labels = batch[\"label\"].to(device)\n",
    "\n",
    "        outputs = teacher(input_ids=input_ids, attention_mask=attention_mask)\n",
    "        preds = torch.argmax(outputs.logits, dim=1)\n",
    "        correct += (preds == labels).sum().item()\n",
    "        total += labels.size(0)\n",
    "\n",
    "print(f\"Teacher Accuracy: {correct / total:.4f}\")"
   ]
  },
  {
   "cell_type": "code",
   "execution_count": 37,
   "metadata": {},
   "outputs": [
    {
     "name": "stdout",
     "output_type": "stream",
     "text": [
      "Teacher Params: 109.48M\n",
      "Student Params: 66.96M\n"
     ]
    }
   ],
   "source": [
    "def count_parameters(model):\n",
    "    return sum(p.numel() for p in model.parameters() if p.requires_grad)\n",
    "\n",
    "print(f\"Teacher Params: {count_parameters(teacher) / 1e6:.2f}M\")\n",
    "print(f\"Student Params: {count_parameters(student) / 1e6:.2f}M\")"
   ]
  },
  {
   "cell_type": "code",
   "execution_count": 133,
   "metadata": {},
   "outputs": [
    {
     "name": "stdout",
     "output_type": "stream",
     "text": [
      "Teacher Avg Inference Time: 30.95 ms/sample\n",
      "Student Avg Inference Time: 7.27 ms/sample\n"
     ]
    }
   ],
   "source": [
    "import time\n",
    "\n",
    "def measure_inference_time(model, dataloader, name=\"Model\"):\n",
    "    model.eval()\n",
    "    total_time = 0\n",
    "    n = 0\n",
    "    with torch.no_grad():\n",
    "        for batch in dataloader:\n",
    "            input_ids = batch[\"input_ids\"].to(device)\n",
    "            attention_mask = batch[\"attention_mask\"].to(device)\n",
    "\n",
    "            start = time.perf_counter()\n",
    "            _ = model(input_ids=input_ids, attention_mask=attention_mask)\n",
    "            end = time.perf_counter()\n",
    "\n",
    "            total_time += (end - start)\n",
    "            n += 1\n",
    "            if n >= 100: break  # 只测100条，够用了\n",
    "\n",
    "    print(f\"{name} Avg Inference Time: {total_time / n * 1000:.2f} ms/sample\")\n",
    "\n",
    "measure_inference_time(teacher, valid_dataloader, \"Teacher\")\n",
    "measure_inference_time(student, valid_dataloader, \"Student\")"
   ]
  }
 ],
 "metadata": {
  "colab": {
   "authorship_tag": "ABX9TyNVqbh7uDmhX4KzQfOSgniy",
   "provenance": []
  },
  "kernelspec": {
   "display_name": "tensor_flow",
   "language": "python",
   "name": "my_env"
  },
  "language_info": {
   "codemirror_mode": {
    "name": "ipython",
    "version": 3
   },
   "file_extension": ".py",
   "mimetype": "text/x-python",
   "name": "python",
   "nbconvert_exporter": "python",
   "pygments_lexer": "ipython3",
   "version": "3.8.20"
  }
 },
 "nbformat": 4,
 "nbformat_minor": 4
}
